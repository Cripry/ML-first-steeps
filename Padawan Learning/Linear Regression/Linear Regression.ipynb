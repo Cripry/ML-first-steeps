{
 "cells": [
  {
   "cell_type": "code",
   "execution_count": 1,
   "id": "f71fdfdb",
   "metadata": {},
   "outputs": [],
   "source": [
    "import numpy as np"
   ]
  },
  {
   "cell_type": "code",
   "execution_count": 2,
   "id": "3930a573",
   "metadata": {},
   "outputs": [],
   "source": [
    "class LinearRegression():\n",
    "    #DEfine a Linear Regression class to store our relevant functions\n",
    "    \n",
    "    def __init__(self):\n",
    "        '''\n",
    "            Initializes the Linear Regression model.\n",
    "            Also stores the self.params__ variable, which\n",
    "            will be the weights that the model returns\n",
    "        '''\n",
    "        self.params__ = None\n",
    "        \n",
    "    def gradientDescent(self, X, y, learning_rate=0.00001,\n",
    "                       iterations=500, batch_size=16):\n",
    "        '''\n",
    "            THis function applies the Gradient Descent model into dataset\n",
    "        :param X: numpy.ndarray\n",
    "            The X matrix containing the independent variable columns.\n",
    "        :param y: numpy.ndarray\n",
    "            The target vector y \n",
    "        '''\n",
    "        \n",
    "        #Add a column of ones for the constant term\n",
    "        X = np.concatenate([X, np.ones_like(y)], axis = 1)\n",
    "        rows, cols = X.shape\n",
    "        \n",
    "        #Combine the X and y columns to more easily shuffle it later\n",
    "        X = np.append(X, y, axis=1)\n",
    "        \n",
    "        #Make the initial random guess for w\n",
    "        w = np.random.random((cols, 1))\n",
    "        \n",
    "        #Go through all  the iterations\n",
    "        for i in range(iterations):\n",
    "            #Shuffle the rows of the data\n",
    "            np.random.shuffle(X)\n",
    "            #Define X and y again\n",
    "            y_it = X[:,  -1].reshape((rows, 1))\n",
    "            X_it = X[:, :-1]\n",
    "            \n",
    "            #Iterate through the batches\n",
    "            for batch in range(math.ceil(rows / batch_size)):\n",
    "                batch_start = batch * batch_size\n",
    "                \n",
    "                #Cut a batch from the dataset\n",
    "                x_batch = X_it[batch_start : min(batch_start + batch_size, X.shape[0])]\n",
    "                y_batch = y_it[batch_start : min(batch_start + batch_size, X.shape[0])]\n",
    "                \n",
    "                #Substract the gradient from our previous estimation\n",
    "                \n",
    "                w -= learning_rate * np.matmul(x_batch.transpose(),\n",
    "                                              (np.matmul(x_batch, w) - y_batch))\n",
    "            \n",
    "            self.params__ = w\n",
    "            return self\n",
    "    def predict(self, X):\n",
    "        X = np.contactenate([X, np.ones(X.shape[0]).reshape((X.shape[0], 1))],\n",
    "                           axis=1)\n",
    "        \n",
    "        return np.matmul(X, self.params__)"
   ]
  },
  {
   "cell_type": "code",
   "execution_count": 3,
   "id": "42a1dc5a",
   "metadata": {},
   "outputs": [],
   "source": [
    "### Sclearn"
   ]
  },
  {
   "cell_type": "code",
   "execution_count": 9,
   "id": "eb94aa52",
   "metadata": {},
   "outputs": [],
   "source": [
    "import numpy as np\n",
    "from sklearn.model_selection import train_test_split\n",
    "from sklearn.metrics import mean_squared_error, mean_absolute_error\n",
    "from sklearn.linear_model import LinearRegression"
   ]
  },
  {
   "cell_type": "code",
   "execution_count": 10,
   "id": "5ae4202e",
   "metadata": {},
   "outputs": [],
   "source": [
    "X = np.linspace(0, 100, 100).reshape(100, 1)\n",
    "#Define a random noise vector to add onto the vector y\n",
    "e = np.random.uniform(-5, 5, (100,1))\n",
    "#Define the vector y = 3*x + e\n",
    "y = 3*X + e\n"
   ]
  },
  {
   "cell_type": "code",
   "execution_count": 11,
   "id": "0d701a5a",
   "metadata": {},
   "outputs": [
    {
     "data": {
      "text/plain": [
       "(10.56109513838131, 10.56109513838131)"
      ]
     },
     "execution_count": 11,
     "metadata": {},
     "output_type": "execute_result"
    }
   ],
   "source": [
    "#Split the data into train and text.\n",
    "X_train, X_test, y_train, y_test = train_test_split(X, y,\n",
    "                                                   test_size=0.3,\n",
    "                                                   random_state=42)\n",
    "\n",
    "#Create an instance of the LinearRegression class from sklearn.\n",
    "lr = LinearRegression()\n",
    "#Call the fit function, which applies the Linear Regression model\n",
    "#onto the data\n",
    "lr.fit(X_train, y_train)\n",
    "#Define a variable that stores the predictions of our model\n",
    "y_pred = lr.predict(X_test)\n",
    "\n",
    "#Print the mean squares error and meand absolute error to get an idea\n",
    "#how well the model has done.\n",
    "mean_squared_error(y_pred, y_test), mean_squared_error(y_pred, y_test)"
   ]
  },
  {
   "cell_type": "code",
   "execution_count": null,
   "id": "e07a3ee9",
   "metadata": {},
   "outputs": [],
   "source": []
  }
 ],
 "metadata": {
  "kernelspec": {
   "display_name": "Python 3 (ipykernel)",
   "language": "python",
   "name": "python3"
  },
  "language_info": {
   "codemirror_mode": {
    "name": "ipython",
    "version": 3
   },
   "file_extension": ".py",
   "mimetype": "text/x-python",
   "name": "python",
   "nbconvert_exporter": "python",
   "pygments_lexer": "ipython3",
   "version": "3.10.5"
  }
 },
 "nbformat": 4,
 "nbformat_minor": 5
}
