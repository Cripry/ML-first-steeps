{
 "cells": [
  {
   "cell_type": "code",
   "execution_count": 1,
   "id": "5cdb21ca",
   "metadata": {},
   "outputs": [],
   "source": [
    "import numpy as np\n",
    "import pandas as pd"
   ]
  },
  {
   "cell_type": "code",
   "execution_count": null,
   "id": "cc03c00a",
   "metadata": {},
   "outputs": [],
   "source": [
    "class GMM:\n",
    "    \n",
    "    def __init__(self, n_components, max_iter=100, comp_names=None):\n",
    "        \"\"\"\n",
    "        This functions initializes the model by seting the following parameters:\n",
    "        :param n_components: int\n",
    "            The number of clusters in which the algorithm must split the data set\n",
    "        :param max_iter: int, default = 100\n",
    "            The number of iteration that the algorithm will go throw\n",
    "            to find the clusters\n",
    "        :param comp_names: list of strings, default=None\n",
    "            In case it is setted as a list of string it will use to name \n",
    "            the clusters\n",
    "        \"\"\"\n",
    "        self.n_components = n_components\n",
    "        self.max_iter = max_iter\n",
    "        if comp_names == None:\n",
    "            self.comp_names = [f'comp {index}' for index in range(self.n_components)]\n",
    "        else:\n",
    "            self.comp_names = comp_names \n",
    "        # pi list contains the fraction of the dataset for every cluster\n",
    "        self.pi = [1/self.n_components for comp in range(self.n_components)]\n",
    "        \n",
    "    def fit(self, X):\n",
    "        '''\n",
    "            The function for training the model\n",
    "        :param X: 2-d numpy array\n",
    "            The data must be passed to the algorithm as 2-d array,\n",
    "            where columns are the features and the rows are samples\n",
    "        '''\n",
    "        # Spliting the data in n_components sub-sets\n",
    "        new_X = np.array_split(X, self.n_components)\n",
    "        \n",
    "        # Initial computation of themean-vector and covarience matrix\n",
    "        self.mean_vector = [np.mean(x, axis=0) for x in new_X]\n",
    "        self.covariance_matrixes = [np.cov(x.T) for x in new_X]\n",
    "        \n",
    "        # Deleting the new_X matrix because we will not need it anymore\n",
    "        del new_X\n",
    "        \n",
    "    def multivariate_normal(self, X, mean_vector, covariance_matrix):\n",
    "        \"\"\"\n",
    "        This function implements the multivariat normal derivation formula,\n",
    "        the normal distribution for vectors it requires the following parameters\n",
    "        :param X: 1-d numpy array\n",
    "            The row-vector for which we want to calculate the distribution\n",
    "        :param mean_vector: 1-d numpy array\n",
    "        \"\"\""
   ]
  }
 ],
 "metadata": {
  "kernelspec": {
   "display_name": "Python 3 (ipykernel)",
   "language": "python",
   "name": "python3"
  },
  "language_info": {
   "codemirror_mode": {
    "name": "ipython",
    "version": 3
   },
   "file_extension": ".py",
   "mimetype": "text/x-python",
   "name": "python",
   "nbconvert_exporter": "python",
   "pygments_lexer": "ipython3",
   "version": "3.10.5"
  }
 },
 "nbformat": 4,
 "nbformat_minor": 5
}
