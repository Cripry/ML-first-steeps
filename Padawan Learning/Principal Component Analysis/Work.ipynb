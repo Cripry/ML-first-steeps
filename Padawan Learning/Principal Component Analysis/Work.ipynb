{
 "cells": [
  {
   "cell_type": "code",
   "execution_count": 1,
   "id": "38d741fe",
   "metadata": {},
   "outputs": [],
   "source": [
    "from sklearn.datasets import load_iris "
   ]
  },
  {
   "cell_type": "code",
   "execution_count": 2,
   "id": "90a90c24",
   "metadata": {},
   "outputs": [],
   "source": [
    "iris = load_iris()"
   ]
  },
  {
   "cell_type": "code",
   "execution_count": 5,
   "id": "8115a3ec",
   "metadata": {},
   "outputs": [],
   "source": [
    "X = iris['data'] \n",
    "y = iris.target"
   ]
  },
  {
   "cell_type": "code",
   "execution_count": 22,
   "id": "2ea0f3af",
   "metadata": {},
   "outputs": [],
   "source": [
    "# Standardizing the data \n",
    "\n",
    "# splitting our data into subsets (70 train /30 val split)\n",
    "from sklearn.model_selection import train_test_split\n",
    "X_train, X_test, y_train, y_test =\\\n",
    "  train_test_split(X, y, \n",
    "                   stratify=y, \n",
    "                   test_size=0.3, random_state=0)\n",
    "\n",
    "# standardize our data using StandardScaler\n",
    "# here we fit the PCAs using STANDARDIZED training data \n",
    "# (can be min/max or z-score standard scaler)\n",
    "from sklearn.preprocessing import StandardScaler\n",
    "sc = StandardScaler()\n",
    "X_train_std = sc.fit_transform(X_train)\n",
    "X_test_std = sc.transform(X_test)"
   ]
  },
  {
   "cell_type": "code",
   "execution_count": 24,
   "id": "6c96b4e6",
   "metadata": {},
   "outputs": [],
   "source": [
    "# Construct the covariance matrix.\n",
    "import numpy as np\n",
    "cov_mat = np.cov(X_train_std.T)\n",
    "\n",
    "# From this covariance matrix, caluclate the Eigenvalues and the Eigenvectors\n",
    "eigen_vals, eigen_vecs = np.linalg.eig(cov_mat)"
   ]
  },
  {
   "cell_type": "code",
   "execution_count": 23,
   "id": "13f499e1",
   "metadata": {},
   "outputs": [
    {
     "name": "stdout",
     "output_type": "stream",
     "text": [
      "Sklearn var:\n",
      " [0.72454601 0.23642515 0.03422874 0.0048001 ]\n",
      "numpy var: \n",
      ") [0.72454601 0.23642515 0.03422874 0.0048001 ]\n"
     ]
    }
   ],
   "source": [
    "from sklearn.decomposition import PCA\n",
    "\n",
    "pca = PCA()\n",
    "\n",
    "# fit_transform() is used to calculate the PCAs from training data\n",
    "X_train_pca = pca.fit_transform(X_train_std)\n",
    "\n",
    "#To get the fit statistics (variance explained per component)\n",
    "print('Sklearn var:\\n', pca.explained_variance_ratio_)\n",
    "print('numpy var: \\n)', eigen_vals/sum(eigen_vals))"
   ]
  },
  {
   "cell_type": "code",
   "execution_count": null,
   "id": "a2c54187",
   "metadata": {},
   "outputs": [],
   "source": []
  }
 ],
 "metadata": {
  "kernelspec": {
   "display_name": "Python 3 (ipykernel)",
   "language": "python",
   "name": "python3"
  },
  "language_info": {
   "codemirror_mode": {
    "name": "ipython",
    "version": 3
   },
   "file_extension": ".py",
   "mimetype": "text/x-python",
   "name": "python",
   "nbconvert_exporter": "python",
   "pygments_lexer": "ipython3",
   "version": "3.10.5"
  }
 },
 "nbformat": 4,
 "nbformat_minor": 5
}
