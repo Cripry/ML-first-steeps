{
 "cells": [
  {
   "cell_type": "code",
   "execution_count": 7,
   "id": "af4fc41e",
   "metadata": {},
   "outputs": [],
   "source": [
    "import math\n",
    "import numpy as np\n",
    "import random"
   ]
  },
  {
   "cell_type": "code",
   "execution_count": 9,
   "id": "9eb195d6",
   "metadata": {},
   "outputs": [],
   "source": [
    "#Generam un numpy array pentru a efectua urmatoarele operatii\n",
    "a = np.array([random.randint(1,10) for _ in range(0,1000)])"
   ]
  },
  {
   "cell_type": "code",
   "execution_count": 10,
   "id": "8c835759",
   "metadata": {},
   "outputs": [],
   "source": [
    "#Create Sigmoid function\n",
    "def sigmoid(x):\n",
    "    return 1/(1+np.exp(-x))"
   ]
  },
  {
   "cell_type": "code",
   "execution_count": 11,
   "id": "019bd0eb",
   "metadata": {},
   "outputs": [],
   "source": [
    "#Calculam valorile pentru array-ul intreg\n",
    "b = [sigmoid(i) for i in a]"
   ]
  },
  {
   "cell_type": "code",
   "execution_count": 12,
   "id": "82822a49",
   "metadata": {},
   "outputs": [
    {
     "name": "stdout",
     "output_type": "stream",
     "text": [
      "3\t 0.9525741268224334\n",
      "1\t 0.7310585786300049\n",
      "10\t 0.9999546021312976\n",
      "7\t 0.9990889488055994\n",
      "10\t 0.9999546021312976\n",
      "1\t 0.7310585786300049\n",
      "9\t 0.9998766054240137\n",
      "1\t 0.7310585786300049\n",
      "4\t 0.9820137900379085\n",
      "7\t 0.9990889488055994\n",
      "4\t 0.9820137900379085\n",
      "3\t 0.9525741268224334\n",
      "1\t 0.7310585786300049\n",
      "7\t 0.9990889488055994\n",
      "10\t 0.9999546021312976\n",
      "8\t 0.9996646498695336\n",
      "3\t 0.9525741268224334\n",
      "9\t 0.9998766054240137\n",
      "10\t 0.9999546021312976\n",
      "8\t 0.9996646498695336\n"
     ]
    }
   ],
   "source": [
    "#Compararea valorilor pentru fiecare array\n",
    "for i,z in zip(a[:20],b[:20]):\n",
    "    print(f'{i}\\t {z}')"
   ]
  },
  {
   "cell_type": "code",
   "execution_count": 13,
   "id": "01f5b2d6",
   "metadata": {},
   "outputs": [],
   "source": [
    "f = np.array([random.randint(1,10) for _ in range(0,100)])\n",
    "g = np.array([random.randint(1,10) for _ in range(0,100)])"
   ]
  },
  {
   "cell_type": "code",
   "execution_count": 18,
   "id": "f5b8eb16",
   "metadata": {},
   "outputs": [
    {
     "name": "stdout",
     "output_type": "stream",
     "text": [
      "Euclidian Distance between [6] and [3] is  13.416407864998739\n",
      "Euclidian Distance between [10] and [9] is  26.90724809414742\n",
      "Euclidian Distance between [4] and [9] is  19.697715603592208\n",
      "Euclidian Distance between [6] and [10] is  23.323807579381203\n",
      "Euclidian Distance between [9] and [6] is  21.633307652783937\n",
      "Euclidian Distance between [5] and [7] is  17.204650534085253\n",
      "Euclidian Distance between [7] and [9] is  22.80350850198276\n",
      "Euclidian Distance between [7] and [5] is  17.204650534085253\n",
      "Euclidian Distance between [9] and [9] is  25.45584412271571\n",
      "Euclidian Distance between [1] and [4] is  8.246211251235321\n",
      "Euclidian Distance between [5] and [10] is  22.360679774997898\n",
      "Euclidian Distance between [5] and [5] is  14.142135623730951\n",
      "Euclidian Distance between [1] and [5] is  10.198039027185569\n",
      "Euclidian Distance between [4] and [7] is  16.1245154965971\n",
      "Euclidian Distance between [2] and [4] is  8.94427190999916\n",
      "Euclidian Distance between [5] and [3] is  11.661903789690601\n",
      "Euclidian Distance between [4] and [5] is  12.806248474865697\n",
      "Euclidian Distance between [5] and [7] is  17.204650534085253\n",
      "Euclidian Distance between [3] and [3] is  8.48528137423857\n",
      "Euclidian Distance between [1] and [1] is  2.8284271247461903\n",
      "Euclidian Distance between [8] and [7] is  21.2602916254693\n",
      "Euclidian Distance between [4] and [7] is  16.1245154965971\n",
      "Euclidian Distance between [7] and [2] is  14.560219778561036\n",
      "Euclidian Distance between [6] and [2] is  12.649110640673518\n",
      "Euclidian Distance between [8] and [5] is  18.867962264113206\n",
      "Euclidian Distance between [10] and [6] is  23.323807579381203\n",
      "Euclidian Distance between [2] and [8] is  16.492422502470642\n",
      "Euclidian Distance between [2] and [3] is  7.211102550927978\n",
      "Euclidian Distance between [5] and [2] is  10.770329614269007\n",
      "Euclidian Distance between [1] and [7] is  14.142135623730951\n",
      "Euclidian Distance between [3] and [10] is  20.8806130178211\n",
      "Euclidian Distance between [4] and [7] is  16.1245154965971\n",
      "Euclidian Distance between [9] and [9] is  25.45584412271571\n",
      "Euclidian Distance between [1] and [5] is  10.198039027185569\n",
      "Euclidian Distance between [5] and [9] is  20.591260281974\n",
      "Euclidian Distance between [6] and [5] is  15.620499351813308\n",
      "Euclidian Distance between [7] and [7] is  19.79898987322333\n",
      "Euclidian Distance between [4] and [9] is  19.697715603592208\n",
      "Euclidian Distance between [7] and [10] is  24.413111231467404\n",
      "Euclidian Distance between [10] and [9] is  26.90724809414742\n",
      "Euclidian Distance between [9] and [5] is  20.591260281974\n",
      "Euclidian Distance between [3] and [6] is  13.416407864998739\n",
      "Euclidian Distance between [3] and [6] is  13.416407864998739\n",
      "Euclidian Distance between [3] and [8] is  17.08800749063506\n",
      "Euclidian Distance between [4] and [3] is  10.0\n",
      "Euclidian Distance between [2] and [7] is  14.560219778561036\n",
      "Euclidian Distance between [7] and [8] is  21.2602916254693\n",
      "Euclidian Distance between [3] and [7] is  15.231546211727817\n",
      "Euclidian Distance between [5] and [10] is  22.360679774997898\n",
      "Euclidian Distance between [5] and [2] is  10.770329614269007\n",
      "Euclidian Distance between [1] and [1] is  2.8284271247461903\n",
      "Euclidian Distance between [4] and [3] is  10.0\n",
      "Euclidian Distance between [9] and [1] is  18.110770276274835\n",
      "Euclidian Distance between [5] and [1] is  10.198039027185569\n",
      "Euclidian Distance between [1] and [4] is  8.246211251235321\n",
      "Euclidian Distance between [2] and [8] is  16.492422502470642\n",
      "Euclidian Distance between [8] and [4] is  17.88854381999832\n",
      "Euclidian Distance between [1] and [6] is  12.165525060596439\n",
      "Euclidian Distance between [4] and [10] is  21.540659228538015\n",
      "Euclidian Distance between [9] and [6] is  21.633307652783937\n",
      "Euclidian Distance between [9] and [2] is  18.439088914585774\n",
      "Euclidian Distance between [7] and [7] is  19.79898987322333\n",
      "Euclidian Distance between [1] and [9] is  18.110770276274835\n",
      "Euclidian Distance between [5] and [8] is  18.867962264113206\n",
      "Euclidian Distance between [7] and [7] is  19.79898987322333\n",
      "Euclidian Distance between [10] and [8] is  25.612496949731394\n",
      "Euclidian Distance between [4] and [10] is  21.540659228538015\n",
      "Euclidian Distance between [8] and [6] is  20.0\n",
      "Euclidian Distance between [8] and [8] is  22.627416997969522\n",
      "Euclidian Distance between [3] and [2] is  7.211102550927978\n",
      "Euclidian Distance between [8] and [1] is  16.1245154965971\n",
      "Euclidian Distance between [9] and [1] is  18.110770276274835\n",
      "Euclidian Distance between [8] and [4] is  17.88854381999832\n",
      "Euclidian Distance between [10] and [7] is  24.413111231467404\n",
      "Euclidian Distance between [3] and [8] is  17.08800749063506\n",
      "Euclidian Distance between [3] and [10] is  20.8806130178211\n",
      "Euclidian Distance between [8] and [8] is  22.627416997969522\n",
      "Euclidian Distance between [7] and [2] is  14.560219778561036\n",
      "Euclidian Distance between [8] and [10] is  25.612496949731394\n",
      "Euclidian Distance between [1] and [7] is  14.142135623730951\n",
      "Euclidian Distance between [2] and [5] is  10.770329614269007\n",
      "Euclidian Distance between [5] and [1] is  10.198039027185569\n",
      "Euclidian Distance between [1] and [5] is  10.198039027185569\n",
      "Euclidian Distance between [1] and [8] is  16.1245154965971\n",
      "Euclidian Distance between [5] and [4] is  12.806248474865697\n",
      "Euclidian Distance between [10] and [10] is  28.284271247461902\n",
      "Euclidian Distance between [9] and [6] is  21.633307652783937\n",
      "Euclidian Distance between [7] and [5] is  17.204650534085253\n",
      "Euclidian Distance between [2] and [6] is  12.649110640673518\n",
      "Euclidian Distance between [7] and [1] is  14.142135623730951\n",
      "Euclidian Distance between [4] and [2] is  8.94427190999916\n",
      "Euclidian Distance between [10] and [6] is  23.323807579381203\n",
      "Euclidian Distance between [7] and [6] is  18.439088914585774\n",
      "Euclidian Distance between [4] and [8] is  17.88854381999832\n",
      "Euclidian Distance between [5] and [7] is  17.204650534085253\n",
      "Euclidian Distance between [3] and [7] is  15.231546211727817\n",
      "Euclidian Distance between [7] and [1] is  14.142135623730951\n",
      "Euclidian Distance between [1] and [5] is  10.198039027185569\n",
      "Euclidian Distance between [8] and [9] is  24.08318915758459\n",
      "Euclidian Distance between [5] and [5] is  14.142135623730951\n"
     ]
    }
   ],
   "source": [
    "def e_distance(a,b):\n",
    "    return 2*math.sqrt(a**2+b**2)\n",
    "    \n",
    "for a,b in zip(f,g):\n",
    "    print(f'Euclidian Distance between [{a}] and [{b}] is  {e_distance(a,b)}')"
   ]
  },
  {
   "cell_type": "code",
   "execution_count": null,
   "id": "2bc77ad6",
   "metadata": {},
   "outputs": [],
   "source": []
  }
 ],
 "metadata": {
  "kernelspec": {
   "display_name": "Python 3 (ipykernel)",
   "language": "python",
   "name": "python3"
  },
  "language_info": {
   "codemirror_mode": {
    "name": "ipython",
    "version": 3
   },
   "file_extension": ".py",
   "mimetype": "text/x-python",
   "name": "python",
   "nbconvert_exporter": "python",
   "pygments_lexer": "ipython3",
   "version": "3.10.5"
  }
 },
 "nbformat": 4,
 "nbformat_minor": 5
}
